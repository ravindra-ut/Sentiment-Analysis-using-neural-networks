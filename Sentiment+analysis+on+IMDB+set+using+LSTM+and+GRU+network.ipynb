{
 "cells": [
  {
   "cell_type": "code",
   "execution_count": 1,
   "metadata": {},
   "outputs": [
    {
     "name": "stderr",
     "output_type": "stream",
     "text": [
      "Using TensorFlow backend.\n"
     ]
    }
   ],
   "source": [
    "from __future__ import print_function\n",
    "\n",
    "from keras.preprocessing import sequence\n",
    "from keras.models import Sequential\n",
    "from keras.layers import Dense, Embedding\n",
    "from keras.layers import LSTM\n",
    "from keras.datasets import imdb"
   ]
  },
  {
   "cell_type": "code",
   "execution_count": 2,
   "metadata": {
    "collapsed": true
   },
   "outputs": [],
   "source": [
    "# 20,000 top most frequent words to consider.\n",
    "# Any less frequent word will appear as 0 in the sequence data.\n",
    "# 0 is used as UNKNOWN.\n",
    "max_features = 20000\n",
    "# Each review can have variable number of words, in them\n",
    "# we will consider first 80 words to predict sentence\n",
    "# if review is shorter we'll pad them by 0.\n",
    "maxlen = 80\n",
    "# batch size for gradient learning.\n",
    "batch_size = 32"
   ]
  },
  {
   "cell_type": "code",
   "execution_count": 3,
   "metadata": {},
   "outputs": [
    {
     "name": "stdout",
     "output_type": "stream",
     "text": [
      "Loading data...\n",
      "25000 train sequences\n",
      "25000 test sequences\n"
     ]
    }
   ],
   "source": [
    "print('Loading data...')\n",
    "(x_train, y_train), (x_test, y_test) = imdb.load_data(num_words=max_features)\n",
    "print(len(x_train), 'train sequences')\n",
    "print(len(x_test), 'test sequences')"
   ]
  },
  {
   "cell_type": "code",
   "execution_count": 4,
   "metadata": {},
   "outputs": [
    {
     "name": "stdout",
     "output_type": "stream",
     "text": [
      "[1, 14, 22, 16, 43, 530, 973, 1622, 1385, 65, 458, 4468, 66, 3941, 4, 173, 36, 256, 5, 25, 100, 43, 838, 112, 50, 670, 2, 9, 35, 480, 284, 5, 150, 4, 172, 112, 167, 2, 336, 385, 39, 4, 172, 4536, 1111, 17, 546, 38, 13, 447, 4, 192, 50, 16, 6, 147, 2025, 19, 14, 22, 4, 1920, 4613, 469, 4, 22, 71, 87, 12, 16, 43, 530, 38, 76, 15, 13, 1247, 4, 22, 17, 515, 17, 12, 16, 626, 18, 19193, 5, 62, 386, 12, 8, 316, 8, 106, 5, 4, 2223, 5244, 16, 480, 66, 3785, 33, 4, 130, 12, 16, 38, 619, 5, 25, 124, 51, 36, 135, 48, 25, 1415, 33, 6, 22, 12, 215, 28, 77, 52, 5, 14, 407, 16, 82, 10311, 8, 4, 107, 117, 5952, 15, 256, 4, 2, 7, 3766, 5, 723, 36, 71, 43, 530, 476, 26, 400, 317, 46, 7, 4, 12118, 1029, 13, 104, 88, 4, 381, 15, 297, 98, 32, 2071, 56, 26, 141, 6, 194, 7486, 18, 4, 226, 22, 21, 134, 476, 26, 480, 5, 144, 30, 5535, 18, 51, 36, 28, 224, 92, 25, 104, 4, 226, 65, 16, 38, 1334, 88, 12, 16, 283, 5, 16, 4472, 113, 103, 32, 15, 16, 5345, 19, 178, 32]\n"
     ]
    }
   ],
   "source": [
    "# each word is encoded using word vector\n",
    "# x_train[0] contains the index of particualr word in word2vec\n",
    "print(x_train[0])"
   ]
  },
  {
   "cell_type": "code",
   "execution_count": 5,
   "metadata": {},
   "outputs": [
    {
     "name": "stdout",
     "output_type": "stream",
     "text": [
      "Pad sequences (samples x time)\n",
      "x_train shape: (25000, 80)\n",
      "x_test shape: (25000, 80)\n"
     ]
    }
   ],
   "source": [
    "# truncate longer sequence\n",
    "# padd with zero for shorter sequence\n",
    "print('Pad sequences (samples x time)')\n",
    "x_train = sequence.pad_sequences(x_train, maxlen=maxlen)\n",
    "x_test = sequence.pad_sequences(x_test, maxlen=maxlen)\n",
    "print('x_train shape:', x_train.shape)\n",
    "print('x_test shape:', x_test.shape)"
   ]
  },
  {
   "cell_type": "code",
   "execution_count": 6,
   "metadata": {},
   "outputs": [
    {
     "name": "stdout",
     "output_type": "stream",
     "text": [
      "Build model...\n"
     ]
    }
   ],
   "source": [
    "print('Build model...')\n",
    "# sequential model, we will stack layers sequentially\n",
    "model = Sequential()\n",
    "# the Embedding layer is a simple matrix multiplication that transforms words into their corresponding word embeddings.\n",
    "# (nb_words, vocab_size) x (vocab_size, embedding_dim) = (nb_words, embedding_dim)\n",
    "# One hot encoded vectos in vocab size x each word in embedding dim = input\n",
    "model.add(Embedding(max_features, 128))\n",
    "# 128 LSTM units with tanh activation\n",
    "model.add(LSTM(128, dropout=0.2, recurrent_dropout=0.2))\n",
    "# Just single regular densely-connected NN layer as output.\n",
    "# output = sigmoid(Wx+b)\n",
    "model.add(Dense(1, activation='sigmoid'))"
   ]
  },
  {
   "cell_type": "code",
   "execution_count": 7,
   "metadata": {
    "collapsed": true
   },
   "outputs": [],
   "source": [
    "model.compile(loss='binary_crossentropy',\n",
    "              optimizer='adam',\n",
    "              metrics=['accuracy'])"
   ]
  },
  {
   "cell_type": "code",
   "execution_count": 22,
   "metadata": {},
   "outputs": [
    {
     "name": "stdout",
     "output_type": "stream",
     "text": [
      "_________________________________________________________________\n",
      "Layer (type)                 Output Shape              Param #   \n",
      "=================================================================\n",
      "embedding_1 (Embedding)      (None, None, 128)         2560000   \n",
      "_________________________________________________________________\n",
      "lstm_1 (LSTM)                (None, 128)               131584    \n",
      "_________________________________________________________________\n",
      "dense_1 (Dense)              (None, 1)                 129       \n",
      "=================================================================\n",
      "Total params: 2,691,713\n",
      "Trainable params: 2,691,713\n",
      "Non-trainable params: 0\n",
      "_________________________________________________________________\n"
     ]
    }
   ],
   "source": [
    "model.summary()"
   ]
  },
  {
   "cell_type": "code",
   "execution_count": 12,
   "metadata": {},
   "outputs": [
    {
     "name": "stdout",
     "output_type": "stream",
     "text": [
      "Train...\n",
      "Train on 25000 samples, validate on 25000 samples\n",
      "Epoch 1/15\n",
      "25000/25000 [==============================] - 141s - loss: 0.2947 - acc: 0.8804 - val_loss: 0.3880 - val_acc: 0.8278\n",
      "Epoch 2/15\n",
      "25000/25000 [==============================] - 141s - loss: 0.2137 - acc: 0.9190 - val_loss: 0.4064 - val_acc: 0.8297\n",
      "Epoch 3/15\n",
      "25000/25000 [==============================] - 140s - loss: 0.1535 - acc: 0.9432 - val_loss: 0.4551 - val_acc: 0.8298\n",
      "Epoch 4/15\n",
      "25000/25000 [==============================] - 141s - loss: 0.1070 - acc: 0.9617 - val_loss: 0.5234 - val_acc: 0.8255\n",
      "Epoch 5/15\n",
      "25000/25000 [==============================] - 139s - loss: 0.0837 - acc: 0.9702 - val_loss: 0.5935 - val_acc: 0.8217\n",
      "Epoch 6/15\n",
      "25000/25000 [==============================] - 139s - loss: 0.0557 - acc: 0.9826 - val_loss: 0.7143 - val_acc: 0.8207\n",
      "Epoch 7/15\n",
      "25000/25000 [==============================] - 140s - loss: 0.0418 - acc: 0.9865 - val_loss: 0.7440 - val_acc: 0.8222\n",
      "Epoch 8/15\n",
      "25000/25000 [==============================] - 140s - loss: 0.0332 - acc: 0.9898 - val_loss: 0.8360 - val_acc: 0.8169\n",
      "Epoch 9/15\n",
      "25000/25000 [==============================] - 140s - loss: 0.0275 - acc: 0.9915 - val_loss: 0.9371 - val_acc: 0.8111\n",
      "Epoch 10/15\n",
      "25000/25000 [==============================] - 139s - loss: 0.0246 - acc: 0.9918 - val_loss: 0.9401 - val_acc: 0.8134\n",
      "Epoch 11/15\n",
      "25000/25000 [==============================] - 139s - loss: 0.0184 - acc: 0.9944 - val_loss: 0.9698 - val_acc: 0.8126\n",
      "Epoch 12/15\n",
      "25000/25000 [==============================] - 139s - loss: 0.0175 - acc: 0.9943 - val_loss: 0.9551 - val_acc: 0.8081\n",
      "Epoch 13/15\n",
      "25000/25000 [==============================] - 139s - loss: 0.0136 - acc: 0.9957 - val_loss: 1.0687 - val_acc: 0.8121\n",
      "Epoch 14/15\n",
      "25000/25000 [==============================] - 140s - loss: 0.0121 - acc: 0.9962 - val_loss: 1.1058 - val_acc: 0.8115\n",
      "Epoch 15/15\n",
      "25000/25000 [==============================] - 139s - loss: 0.0100 - acc: 0.9972 - val_loss: 1.2072 - val_acc: 0.8090\n",
      "24992/25000 [============================>.] - ETA: 0s"
     ]
    }
   ],
   "source": [
    "print('Train...')\n",
    "model.fit(x_train, y_train,\n",
    "          batch_size=batch_size,\n",
    "          epochs=15,\n",
    "          validation_data=(x_test, y_test))\n",
    "score, acc = model.evaluate(x_test, y_test,\n",
    "                            batch_size=batch_size)"
   ]
  },
  {
   "cell_type": "code",
   "execution_count": 14,
   "metadata": {},
   "outputs": [
    {
     "name": "stdout",
     "output_type": "stream",
     "text": [
      "1.20720062368 0.80904\n"
     ]
    }
   ],
   "source": [
    "print(score, acc)"
   ]
  },
  {
   "cell_type": "code",
   "execution_count": 15,
   "metadata": {
    "collapsed": true
   },
   "outputs": [],
   "source": [
    "model.save(\"lstm_sentiment_model.h5\")"
   ]
  },
  {
   "cell_type": "code",
   "execution_count": 16,
   "metadata": {
    "collapsed": true
   },
   "outputs": [],
   "source": [
    "from keras.layers import GRU\n",
    "\n",
    "model2 = Sequential()\n",
    "model2.add(Embedding(max_features, 128))\n",
    "model2.add(GRU(128, dropout=0.2, recurrent_dropout=0.2))\n",
    "model2.add(Dense(1, activation='sigmoid'))"
   ]
  },
  {
   "cell_type": "code",
   "execution_count": 17,
   "metadata": {
    "collapsed": true
   },
   "outputs": [],
   "source": [
    "model2.compile(loss='binary_crossentropy',\n",
    "               optimizer='adam',\n",
    "               metrics=['accuracy'])"
   ]
  },
  {
   "cell_type": "code",
   "execution_count": 21,
   "metadata": {},
   "outputs": [
    {
     "name": "stdout",
     "output_type": "stream",
     "text": [
      "_________________________________________________________________\n",
      "Layer (type)                 Output Shape              Param #   \n",
      "=================================================================\n",
      "embedding_2 (Embedding)      (None, None, 128)         2560000   \n",
      "_________________________________________________________________\n",
      "gru_1 (GRU)                  (None, 128)               98688     \n",
      "_________________________________________________________________\n",
      "dense_2 (Dense)              (None, 1)                 129       \n",
      "=================================================================\n",
      "Total params: 2,658,817\n",
      "Trainable params: 2,658,817\n",
      "Non-trainable params: 0\n",
      "_________________________________________________________________\n"
     ]
    }
   ],
   "source": [
    "model2.summary()"
   ]
  },
  {
   "cell_type": "code",
   "execution_count": 18,
   "metadata": {},
   "outputs": [
    {
     "name": "stdout",
     "output_type": "stream",
     "text": [
      "Train...\n",
      "Train on 25000 samples, validate on 25000 samples\n",
      "Epoch 1/15\n",
      "25000/25000 [==============================] - 135s - loss: 0.4679 - acc: 0.7727 - val_loss: 0.3769 - val_acc: 0.8362\n",
      "Epoch 2/15\n",
      "25000/25000 [==============================] - 135s - loss: 0.2983 - acc: 0.8776 - val_loss: 0.3551 - val_acc: 0.8444\n",
      "Epoch 3/15\n",
      "25000/25000 [==============================] - 135s - loss: 0.1865 - acc: 0.9293 - val_loss: 0.4466 - val_acc: 0.8291\n",
      "Epoch 4/15\n",
      "25000/25000 [==============================] - 135s - loss: 0.1133 - acc: 0.9602 - val_loss: 0.4976 - val_acc: 0.8242\n",
      "Epoch 5/15\n",
      "25000/25000 [==============================] - 136s - loss: 0.0717 - acc: 0.9754 - val_loss: 0.6008 - val_acc: 0.8223\n",
      "Epoch 6/15\n",
      "25000/25000 [==============================] - 136s - loss: 0.0457 - acc: 0.9846 - val_loss: 0.7898 - val_acc: 0.8205\n",
      "Epoch 7/15\n",
      "25000/25000 [==============================] - 135s - loss: 0.0322 - acc: 0.9894 - val_loss: 0.7794 - val_acc: 0.8129\n",
      "Epoch 8/15\n",
      "25000/25000 [==============================] - 136s - loss: 0.0254 - acc: 0.9911 - val_loss: 0.8466 - val_acc: 0.8098\n",
      "Epoch 9/15\n",
      "25000/25000 [==============================] - 135s - loss: 0.0202 - acc: 0.9936 - val_loss: 0.8905 - val_acc: 0.8047\n",
      "Epoch 10/15\n",
      "25000/25000 [==============================] - 135s - loss: 0.0148 - acc: 0.9952 - val_loss: 1.1044 - val_acc: 0.8122\n",
      "Epoch 11/15\n",
      "25000/25000 [==============================] - 137s - loss: 0.0110 - acc: 0.9963 - val_loss: 1.1583 - val_acc: 0.8092\n",
      "Epoch 12/15\n",
      "25000/25000 [==============================] - 136s - loss: 0.0121 - acc: 0.9962 - val_loss: 1.1183 - val_acc: 0.8070\n",
      "Epoch 13/15\n",
      "25000/25000 [==============================] - 136s - loss: 0.0103 - acc: 0.9963 - val_loss: 1.1825 - val_acc: 0.8005\n",
      "Epoch 14/15\n",
      "25000/25000 [==============================] - 136s - loss: 0.0071 - acc: 0.9980 - val_loss: 1.1852 - val_acc: 0.8026\n",
      "Epoch 15/15\n",
      "25000/25000 [==============================] - 137s - loss: 0.0071 - acc: 0.9975 - val_loss: 1.2900 - val_acc: 0.8047\n",
      "24992/25000 [============================>.] - ETA: 0s"
     ]
    }
   ],
   "source": [
    "print('Train...')\n",
    "model2.fit(x_train, y_train,\n",
    "          batch_size=batch_size,\n",
    "          epochs=15,\n",
    "          validation_data=(x_test, y_test))\n",
    "score, acc = model2.evaluate(x_test, y_test,\n",
    "                            batch_size=batch_size)"
   ]
  },
  {
   "cell_type": "code",
   "execution_count": 19,
   "metadata": {},
   "outputs": [
    {
     "name": "stdout",
     "output_type": "stream",
     "text": [
      "\n",
      "1.28998386906 0.80468\n"
     ]
    }
   ],
   "source": [
    "print('')\n",
    "print(score, acc)"
   ]
  },
  {
   "cell_type": "markdown",
   "metadata": {},
   "source": [
    "GRU does well similar to LSTM"
   ]
  },
  {
   "cell_type": "code",
   "execution_count": 20,
   "metadata": {},
   "outputs": [],
   "source": [
    "model2.save(\"gru_sentiment_model.h5\")"
   ]
  },
  {
   "cell_type": "markdown",
   "metadata": {},
   "source": [
    "The h5py package is a Pythonic interface to the HDF5 binary data format.<br/>\n",
    "\n",
    "It lets you store huge amounts of numerical data, and easily manipulate that data from NumPy. For example, you can slice into multi-terabyte datasets stored on disk, as if they were real NumPy arrays. Thousands of datasets can be stored in a single file, categorized and tagged however you want.\n",
    "\n",
    "We save models in h5 format, basically storing weights of neural networks."
   ]
  },
  {
   "cell_type": "code",
   "execution_count": null,
   "metadata": {
    "collapsed": true
   },
   "outputs": [],
   "source": []
  }
 ],
 "metadata": {
  "kernelspec": {
   "display_name": "Python 2",
   "language": "python",
   "name": "python2"
  },
  "language_info": {
   "codemirror_mode": {
    "name": "ipython",
    "version": 2
   },
   "file_extension": ".py",
   "mimetype": "text/x-python",
   "name": "python",
   "nbconvert_exporter": "python",
   "pygments_lexer": "ipython2",
   "version": "2.7.9"
  }
 },
 "nbformat": 4,
 "nbformat_minor": 2
}
